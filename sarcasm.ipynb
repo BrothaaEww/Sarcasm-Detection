{
  "nbformat": 4,
  "nbformat_minor": 0,
  "metadata": {
    "colab": {
      "provenance": [],
      "include_colab_link": true
    },
    "kernelspec": {
      "name": "python3",
      "display_name": "Python 3"
    },
    "language_info": {
      "name": "python"
    }
  },
  "cells": [
    {
      "cell_type": "markdown",
      "metadata": {
        "id": "view-in-github",
        "colab_type": "text"
      },
      "source": [
        "<a href=\"https://colab.research.google.com/github/BrothaaEww/Sarcasm-Detection/blob/main/sarcasm.ipynb\" target=\"_parent\"><img src=\"https://colab.research.google.com/assets/colab-badge.svg\" alt=\"Open In Colab\"/></a>"
      ]
    },
    {
      "cell_type": "code",
      "source": [
        "import pandas as pd, numpy as np, re, time\n",
        "from nltk.stem.porter import PorterStemmer\n",
        "from sklearn.model_selection import train_test_split\n",
        "from sklearn.metrics import confusion_matrix\n",
        "from sklearn.svm import LinearSVC\n",
        "from sklearn.model_selection import cross_val_score\n",
        "from sklearn.naive_bayes import GaussianNB\n",
        "from sklearn.linear_model import LogisticRegression\n",
        "from sklearn.ensemble import RandomForestClassifier\n",
        "import pandas as pd\n",
        "import numpy as np\n",
        "from sklearn.feature_extraction.text import CountVectorizer\n",
        "from sklearn.model_selection import train_test_split\n",
        "from sklearn.naive_bayes import MultinomialNB\n",
        "from sklearn.metrics import accuracy_score\n",
        "from sklearn.metrics import classification_report\n",
        "from sklearn.metrics import f1_score\n",
        "from sklearn.metrics import roc_auc_score\n",
        "from sklearn.metrics import confusion_matrix"
      ],
      "metadata": {
        "id": "89VyygXqdJq2"
      },
      "execution_count": null,
      "outputs": []
    },
    {
      "cell_type": "code",
      "source": [
        "# Loading data from json file\n",
        "data = pd.read_json('/content/sarcasm.json', lines = False)\n",
        "print(data)"
      ],
      "metadata": {
        "id": "BR5wdVf8dcNP",
        "outputId": "258c4146-3d18-4cd6-d13c-13df2284e79f",
        "colab": {
          "base_uri": "https://localhost:8080/"
        }
      },
      "execution_count": null,
      "outputs": [
        {
          "output_type": "stream",
          "name": "stdout",
          "text": [
            "                                            article_link  \\\n",
            "0      https://www.huffingtonpost.com/entry/versace-b...   \n",
            "1      https://www.huffingtonpost.com/entry/roseanne-...   \n",
            "2      https://local.theonion.com/mom-starting-to-fea...   \n",
            "3      https://politics.theonion.com/boehner-just-wan...   \n",
            "4      https://www.huffingtonpost.com/entry/jk-rowlin...   \n",
            "...                                                  ...   \n",
            "26704  https://www.huffingtonpost.com/entry/american-...   \n",
            "26705  https://www.huffingtonpost.com/entry/americas-...   \n",
            "26706  https://www.huffingtonpost.com/entry/reparatio...   \n",
            "26707  https://www.huffingtonpost.com/entry/israeli-b...   \n",
            "26708  https://www.huffingtonpost.com/entry/gourmet-g...   \n",
            "\n",
            "                                                headline  is_sarcastic  \n",
            "0      former versace store clerk sues over secret 'b...             0  \n",
            "1      the 'roseanne' revival catches up to our thorn...             0  \n",
            "2      mom starting to fear son's web series closest ...             1  \n",
            "3      boehner just wants wife to listen, not come up...             1  \n",
            "4      j.k. rowling wishes snape happy birthday in th...             0  \n",
            "...                                                  ...           ...  \n",
            "26704               american politics in moral free-fall             0  \n",
            "26705                            america's best 20 hikes             0  \n",
            "26706                              reparations and obama             0  \n",
            "26707  israeli ban targeting boycott supporters raise...             0  \n",
            "26708                  gourmet gifts for the foodie 2014             0  \n",
            "\n",
            "[26709 rows x 3 columns]\n"
          ]
        }
      ]
    },
    {
      "cell_type": "code",
      "source": [
        "print(data.isnull().any(axis = 0))"
      ],
      "metadata": {
        "id": "PQzfXPJJefWy",
        "colab": {
          "base_uri": "https://localhost:8080/"
        },
        "outputId": "945fdac1-1569-467a-ac01-cf6ebd0310f4"
      },
      "execution_count": null,
      "outputs": [
        {
          "output_type": "stream",
          "name": "stdout",
          "text": [
            "article_link    False\n",
            "headline        False\n",
            "is_sarcastic    False\n",
            "dtype: bool\n"
          ]
        }
      ]
    },
    {
      "cell_type": "code",
      "source": [
        "# data.rename(columns={'headline': 'text'}, inplace=True)\n",
        "data.head()"
      ],
      "metadata": {
        "colab": {
          "base_uri": "https://localhost:8080/",
          "height": 206
        },
        "id": "BKwnOTz1dHKE",
        "outputId": "10475da2-a11c-4c54-dbe4-951214d56e62"
      },
      "execution_count": null,
      "outputs": [
        {
          "output_type": "execute_result",
          "data": {
            "text/plain": [
              "                                        article_link  \\\n",
              "0  https://www.huffingtonpost.com/entry/versace-b...   \n",
              "1  https://www.huffingtonpost.com/entry/roseanne-...   \n",
              "2  https://local.theonion.com/mom-starting-to-fea...   \n",
              "3  https://politics.theonion.com/boehner-just-wan...   \n",
              "4  https://www.huffingtonpost.com/entry/jk-rowlin...   \n",
              "\n",
              "                                            headline  is_sarcastic  \n",
              "0  former versace store clerk sues over secret 'b...             0  \n",
              "1  the 'roseanne' revival catches up to our thorn...             0  \n",
              "2  mom starting to fear son's web series closest ...             1  \n",
              "3  boehner just wants wife to listen, not come up...             1  \n",
              "4  j.k. rowling wishes snape happy birthday in th...             0  "
            ],
            "text/html": [
              "\n",
              "  <div id=\"df-8ebc8486-d7a9-4528-958b-fe2714126dab\">\n",
              "    <div class=\"colab-df-container\">\n",
              "      <div>\n",
              "<style scoped>\n",
              "    .dataframe tbody tr th:only-of-type {\n",
              "        vertical-align: middle;\n",
              "    }\n",
              "\n",
              "    .dataframe tbody tr th {\n",
              "        vertical-align: top;\n",
              "    }\n",
              "\n",
              "    .dataframe thead th {\n",
              "        text-align: right;\n",
              "    }\n",
              "</style>\n",
              "<table border=\"1\" class=\"dataframe\">\n",
              "  <thead>\n",
              "    <tr style=\"text-align: right;\">\n",
              "      <th></th>\n",
              "      <th>article_link</th>\n",
              "      <th>headline</th>\n",
              "      <th>is_sarcastic</th>\n",
              "    </tr>\n",
              "  </thead>\n",
              "  <tbody>\n",
              "    <tr>\n",
              "      <th>0</th>\n",
              "      <td>https://www.huffingtonpost.com/entry/versace-b...</td>\n",
              "      <td>former versace store clerk sues over secret 'b...</td>\n",
              "      <td>0</td>\n",
              "    </tr>\n",
              "    <tr>\n",
              "      <th>1</th>\n",
              "      <td>https://www.huffingtonpost.com/entry/roseanne-...</td>\n",
              "      <td>the 'roseanne' revival catches up to our thorn...</td>\n",
              "      <td>0</td>\n",
              "    </tr>\n",
              "    <tr>\n",
              "      <th>2</th>\n",
              "      <td>https://local.theonion.com/mom-starting-to-fea...</td>\n",
              "      <td>mom starting to fear son's web series closest ...</td>\n",
              "      <td>1</td>\n",
              "    </tr>\n",
              "    <tr>\n",
              "      <th>3</th>\n",
              "      <td>https://politics.theonion.com/boehner-just-wan...</td>\n",
              "      <td>boehner just wants wife to listen, not come up...</td>\n",
              "      <td>1</td>\n",
              "    </tr>\n",
              "    <tr>\n",
              "      <th>4</th>\n",
              "      <td>https://www.huffingtonpost.com/entry/jk-rowlin...</td>\n",
              "      <td>j.k. rowling wishes snape happy birthday in th...</td>\n",
              "      <td>0</td>\n",
              "    </tr>\n",
              "  </tbody>\n",
              "</table>\n",
              "</div>\n",
              "      <button class=\"colab-df-convert\" onclick=\"convertToInteractive('df-8ebc8486-d7a9-4528-958b-fe2714126dab')\"\n",
              "              title=\"Convert this dataframe to an interactive table.\"\n",
              "              style=\"display:none;\">\n",
              "        \n",
              "  <svg xmlns=\"http://www.w3.org/2000/svg\" height=\"24px\"viewBox=\"0 0 24 24\"\n",
              "       width=\"24px\">\n",
              "    <path d=\"M0 0h24v24H0V0z\" fill=\"none\"/>\n",
              "    <path d=\"M18.56 5.44l.94 2.06.94-2.06 2.06-.94-2.06-.94-.94-2.06-.94 2.06-2.06.94zm-11 1L8.5 8.5l.94-2.06 2.06-.94-2.06-.94L8.5 2.5l-.94 2.06-2.06.94zm10 10l.94 2.06.94-2.06 2.06-.94-2.06-.94-.94-2.06-.94 2.06-2.06.94z\"/><path d=\"M17.41 7.96l-1.37-1.37c-.4-.4-.92-.59-1.43-.59-.52 0-1.04.2-1.43.59L10.3 9.45l-7.72 7.72c-.78.78-.78 2.05 0 2.83L4 21.41c.39.39.9.59 1.41.59.51 0 1.02-.2 1.41-.59l7.78-7.78 2.81-2.81c.8-.78.8-2.07 0-2.86zM5.41 20L4 18.59l7.72-7.72 1.47 1.35L5.41 20z\"/>\n",
              "  </svg>\n",
              "      </button>\n",
              "      \n",
              "  <style>\n",
              "    .colab-df-container {\n",
              "      display:flex;\n",
              "      flex-wrap:wrap;\n",
              "      gap: 12px;\n",
              "    }\n",
              "\n",
              "    .colab-df-convert {\n",
              "      background-color: #E8F0FE;\n",
              "      border: none;\n",
              "      border-radius: 50%;\n",
              "      cursor: pointer;\n",
              "      display: none;\n",
              "      fill: #1967D2;\n",
              "      height: 32px;\n",
              "      padding: 0 0 0 0;\n",
              "      width: 32px;\n",
              "    }\n",
              "\n",
              "    .colab-df-convert:hover {\n",
              "      background-color: #E2EBFA;\n",
              "      box-shadow: 0px 1px 2px rgba(60, 64, 67, 0.3), 0px 1px 3px 1px rgba(60, 64, 67, 0.15);\n",
              "      fill: #174EA6;\n",
              "    }\n",
              "\n",
              "    [theme=dark] .colab-df-convert {\n",
              "      background-color: #3B4455;\n",
              "      fill: #D2E3FC;\n",
              "    }\n",
              "\n",
              "    [theme=dark] .colab-df-convert:hover {\n",
              "      background-color: #434B5C;\n",
              "      box-shadow: 0px 1px 3px 1px rgba(0, 0, 0, 0.15);\n",
              "      filter: drop-shadow(0px 1px 2px rgba(0, 0, 0, 0.3));\n",
              "      fill: #FFFFFF;\n",
              "    }\n",
              "  </style>\n",
              "\n",
              "      <script>\n",
              "        const buttonEl =\n",
              "          document.querySelector('#df-8ebc8486-d7a9-4528-958b-fe2714126dab button.colab-df-convert');\n",
              "        buttonEl.style.display =\n",
              "          google.colab.kernel.accessAllowed ? 'block' : 'none';\n",
              "\n",
              "        async function convertToInteractive(key) {\n",
              "          const element = document.querySelector('#df-8ebc8486-d7a9-4528-958b-fe2714126dab');\n",
              "          const dataTable =\n",
              "            await google.colab.kernel.invokeFunction('convertToInteractive',\n",
              "                                                     [key], {});\n",
              "          if (!dataTable) return;\n",
              "\n",
              "          const docLinkHtml = 'Like what you see? Visit the ' +\n",
              "            '<a target=\"_blank\" href=https://colab.research.google.com/notebooks/data_table.ipynb>data table notebook</a>'\n",
              "            + ' to learn more about interactive tables.';\n",
              "          element.innerHTML = '';\n",
              "          dataTable['output_type'] = 'display_data';\n",
              "          await google.colab.output.renderOutput(dataTable, element);\n",
              "          const docLink = document.createElement('div');\n",
              "          docLink.innerHTML = docLinkHtml;\n",
              "          element.appendChild(docLink);\n",
              "        }\n",
              "      </script>\n",
              "    </div>\n",
              "  </div>\n",
              "  "
            ]
          },
          "metadata": {},
          "execution_count": 37
        }
      ]
    },
    {
      "cell_type": "code",
      "source": [
        "data.shape"
      ],
      "metadata": {
        "colab": {
          "base_uri": "https://localhost:8080/"
        },
        "id": "naGbzA_ndWCJ",
        "outputId": "07e10a9b-7523-4ea7-fb0e-ef3f5dadae3b"
      },
      "execution_count": null,
      "outputs": [
        {
          "output_type": "execute_result",
          "data": {
            "text/plain": [
              "(26709, 3)"
            ]
          },
          "metadata": {},
          "execution_count": 4
        }
      ]
    },
    {
      "cell_type": "code",
      "source": [
        "data.is_sarcastic.value_counts()"
      ],
      "metadata": {
        "colab": {
          "base_uri": "https://localhost:8080/"
        },
        "id": "YBUTX6ROddAX",
        "outputId": "24611d57-06b3-4339-d23d-a18a5d2d6bde"
      },
      "execution_count": null,
      "outputs": [
        {
          "output_type": "execute_result",
          "data": {
            "text/plain": [
              "0    14985\n",
              "1    11724\n",
              "Name: is_sarcastic, dtype: int64"
            ]
          },
          "metadata": {},
          "execution_count": 39
        }
      ]
    },
    {
      "cell_type": "code",
      "source": [
        "data_serious = data[data['is_sarcastic']==0].head(10)\n",
        "data_serious"
      ],
      "metadata": {
        "colab": {
          "base_uri": "https://localhost:8080/",
          "height": 363
        },
        "id": "juFHCmmDd048",
        "outputId": "e31249b9-3f87-4107-8ca1-5c754dde5b23"
      },
      "execution_count": null,
      "outputs": [
        {
          "output_type": "execute_result",
          "data": {
            "text/plain": [
              "                                         article_link  \\\n",
              "0   https://www.huffingtonpost.com/entry/versace-b...   \n",
              "1   https://www.huffingtonpost.com/entry/roseanne-...   \n",
              "4   https://www.huffingtonpost.com/entry/jk-rowlin...   \n",
              "5   https://www.huffingtonpost.com/entry/advancing...   \n",
              "6   https://www.huffingtonpost.com/entry/how-meat-...   \n",
              "7   https://www.huffingtonpost.com/entry/boxed-col...   \n",
              "9   https://www.huffingtonpost.com/entry/fridays-m...   \n",
              "10  https://www.huffingtonpost.com/entry/airline-p...   \n",
              "11  https://www.huffingtonpost.com/entry/facebook-...   \n",
              "12  https://www.huffingtonpost.comhttp://www.thegu...   \n",
              "\n",
              "                                             headline  is_sarcastic  \n",
              "0   former versace store clerk sues over secret 'b...             0  \n",
              "1   the 'roseanne' revival catches up to our thorn...             0  \n",
              "4   j.k. rowling wishes snape happy birthday in th...             0  \n",
              "5                         advancing the world's women             0  \n",
              "6      the fascinating case for eating lab-grown meat             0  \n",
              "7   this ceo will send your kids to school, if you...             0  \n",
              "9   friday's morning email: inside trump's presser...             0  \n",
              "10  airline passengers tackle man who rushes cockp...             0  \n",
              "11  facebook reportedly working on healthcare feat...             0  \n",
              "12  north korea praises trump and urges us voters ...             0  "
            ],
            "text/html": [
              "\n",
              "  <div id=\"df-774ca2b3-3781-403f-a063-8f818301e2c0\">\n",
              "    <div class=\"colab-df-container\">\n",
              "      <div>\n",
              "<style scoped>\n",
              "    .dataframe tbody tr th:only-of-type {\n",
              "        vertical-align: middle;\n",
              "    }\n",
              "\n",
              "    .dataframe tbody tr th {\n",
              "        vertical-align: top;\n",
              "    }\n",
              "\n",
              "    .dataframe thead th {\n",
              "        text-align: right;\n",
              "    }\n",
              "</style>\n",
              "<table border=\"1\" class=\"dataframe\">\n",
              "  <thead>\n",
              "    <tr style=\"text-align: right;\">\n",
              "      <th></th>\n",
              "      <th>article_link</th>\n",
              "      <th>headline</th>\n",
              "      <th>is_sarcastic</th>\n",
              "    </tr>\n",
              "  </thead>\n",
              "  <tbody>\n",
              "    <tr>\n",
              "      <th>0</th>\n",
              "      <td>https://www.huffingtonpost.com/entry/versace-b...</td>\n",
              "      <td>former versace store clerk sues over secret 'b...</td>\n",
              "      <td>0</td>\n",
              "    </tr>\n",
              "    <tr>\n",
              "      <th>1</th>\n",
              "      <td>https://www.huffingtonpost.com/entry/roseanne-...</td>\n",
              "      <td>the 'roseanne' revival catches up to our thorn...</td>\n",
              "      <td>0</td>\n",
              "    </tr>\n",
              "    <tr>\n",
              "      <th>4</th>\n",
              "      <td>https://www.huffingtonpost.com/entry/jk-rowlin...</td>\n",
              "      <td>j.k. rowling wishes snape happy birthday in th...</td>\n",
              "      <td>0</td>\n",
              "    </tr>\n",
              "    <tr>\n",
              "      <th>5</th>\n",
              "      <td>https://www.huffingtonpost.com/entry/advancing...</td>\n",
              "      <td>advancing the world's women</td>\n",
              "      <td>0</td>\n",
              "    </tr>\n",
              "    <tr>\n",
              "      <th>6</th>\n",
              "      <td>https://www.huffingtonpost.com/entry/how-meat-...</td>\n",
              "      <td>the fascinating case for eating lab-grown meat</td>\n",
              "      <td>0</td>\n",
              "    </tr>\n",
              "    <tr>\n",
              "      <th>7</th>\n",
              "      <td>https://www.huffingtonpost.com/entry/boxed-col...</td>\n",
              "      <td>this ceo will send your kids to school, if you...</td>\n",
              "      <td>0</td>\n",
              "    </tr>\n",
              "    <tr>\n",
              "      <th>9</th>\n",
              "      <td>https://www.huffingtonpost.com/entry/fridays-m...</td>\n",
              "      <td>friday's morning email: inside trump's presser...</td>\n",
              "      <td>0</td>\n",
              "    </tr>\n",
              "    <tr>\n",
              "      <th>10</th>\n",
              "      <td>https://www.huffingtonpost.com/entry/airline-p...</td>\n",
              "      <td>airline passengers tackle man who rushes cockp...</td>\n",
              "      <td>0</td>\n",
              "    </tr>\n",
              "    <tr>\n",
              "      <th>11</th>\n",
              "      <td>https://www.huffingtonpost.com/entry/facebook-...</td>\n",
              "      <td>facebook reportedly working on healthcare feat...</td>\n",
              "      <td>0</td>\n",
              "    </tr>\n",
              "    <tr>\n",
              "      <th>12</th>\n",
              "      <td>https://www.huffingtonpost.comhttp://www.thegu...</td>\n",
              "      <td>north korea praises trump and urges us voters ...</td>\n",
              "      <td>0</td>\n",
              "    </tr>\n",
              "  </tbody>\n",
              "</table>\n",
              "</div>\n",
              "      <button class=\"colab-df-convert\" onclick=\"convertToInteractive('df-774ca2b3-3781-403f-a063-8f818301e2c0')\"\n",
              "              title=\"Convert this dataframe to an interactive table.\"\n",
              "              style=\"display:none;\">\n",
              "        \n",
              "  <svg xmlns=\"http://www.w3.org/2000/svg\" height=\"24px\"viewBox=\"0 0 24 24\"\n",
              "       width=\"24px\">\n",
              "    <path d=\"M0 0h24v24H0V0z\" fill=\"none\"/>\n",
              "    <path d=\"M18.56 5.44l.94 2.06.94-2.06 2.06-.94-2.06-.94-.94-2.06-.94 2.06-2.06.94zm-11 1L8.5 8.5l.94-2.06 2.06-.94-2.06-.94L8.5 2.5l-.94 2.06-2.06.94zm10 10l.94 2.06.94-2.06 2.06-.94-2.06-.94-.94-2.06-.94 2.06-2.06.94z\"/><path d=\"M17.41 7.96l-1.37-1.37c-.4-.4-.92-.59-1.43-.59-.52 0-1.04.2-1.43.59L10.3 9.45l-7.72 7.72c-.78.78-.78 2.05 0 2.83L4 21.41c.39.39.9.59 1.41.59.51 0 1.02-.2 1.41-.59l7.78-7.78 2.81-2.81c.8-.78.8-2.07 0-2.86zM5.41 20L4 18.59l7.72-7.72 1.47 1.35L5.41 20z\"/>\n",
              "  </svg>\n",
              "      </button>\n",
              "      \n",
              "  <style>\n",
              "    .colab-df-container {\n",
              "      display:flex;\n",
              "      flex-wrap:wrap;\n",
              "      gap: 12px;\n",
              "    }\n",
              "\n",
              "    .colab-df-convert {\n",
              "      background-color: #E8F0FE;\n",
              "      border: none;\n",
              "      border-radius: 50%;\n",
              "      cursor: pointer;\n",
              "      display: none;\n",
              "      fill: #1967D2;\n",
              "      height: 32px;\n",
              "      padding: 0 0 0 0;\n",
              "      width: 32px;\n",
              "    }\n",
              "\n",
              "    .colab-df-convert:hover {\n",
              "      background-color: #E2EBFA;\n",
              "      box-shadow: 0px 1px 2px rgba(60, 64, 67, 0.3), 0px 1px 3px 1px rgba(60, 64, 67, 0.15);\n",
              "      fill: #174EA6;\n",
              "    }\n",
              "\n",
              "    [theme=dark] .colab-df-convert {\n",
              "      background-color: #3B4455;\n",
              "      fill: #D2E3FC;\n",
              "    }\n",
              "\n",
              "    [theme=dark] .colab-df-convert:hover {\n",
              "      background-color: #434B5C;\n",
              "      box-shadow: 0px 1px 3px 1px rgba(0, 0, 0, 0.15);\n",
              "      filter: drop-shadow(0px 1px 2px rgba(0, 0, 0, 0.3));\n",
              "      fill: #FFFFFF;\n",
              "    }\n",
              "  </style>\n",
              "\n",
              "      <script>\n",
              "        const buttonEl =\n",
              "          document.querySelector('#df-774ca2b3-3781-403f-a063-8f818301e2c0 button.colab-df-convert');\n",
              "        buttonEl.style.display =\n",
              "          google.colab.kernel.accessAllowed ? 'block' : 'none';\n",
              "\n",
              "        async function convertToInteractive(key) {\n",
              "          const element = document.querySelector('#df-774ca2b3-3781-403f-a063-8f818301e2c0');\n",
              "          const dataTable =\n",
              "            await google.colab.kernel.invokeFunction('convertToInteractive',\n",
              "                                                     [key], {});\n",
              "          if (!dataTable) return;\n",
              "\n",
              "          const docLinkHtml = 'Like what you see? Visit the ' +\n",
              "            '<a target=\"_blank\" href=https://colab.research.google.com/notebooks/data_table.ipynb>data table notebook</a>'\n",
              "            + ' to learn more about interactive tables.';\n",
              "          element.innerHTML = '';\n",
              "          dataTable['output_type'] = 'display_data';\n",
              "          await google.colab.output.renderOutput(dataTable, element);\n",
              "          const docLink = document.createElement('div');\n",
              "          docLink.innerHTML = docLinkHtml;\n",
              "          element.appendChild(docLink);\n",
              "        }\n",
              "      </script>\n",
              "    </div>\n",
              "  </div>\n",
              "  "
            ]
          },
          "metadata": {},
          "execution_count": 40
        }
      ]
    },
    {
      "cell_type": "code",
      "source": [
        "data_sarcastic = data[data['is_sarcastic']==1].head(10)\n",
        "data_sarcastic"
      ],
      "metadata": {
        "colab": {
          "base_uri": "https://localhost:8080/",
          "height": 363
        },
        "id": "rGLtLePJeHo5",
        "outputId": "56c6f38a-7876-414a-88d0-3174ab7d08ef"
      },
      "execution_count": null,
      "outputs": [
        {
          "output_type": "execute_result",
          "data": {
            "text/plain": [
              "                                         article_link  \\\n",
              "2   https://local.theonion.com/mom-starting-to-fea...   \n",
              "3   https://politics.theonion.com/boehner-just-wan...   \n",
              "8   https://politics.theonion.com/top-snake-handle...   \n",
              "15  https://entertainment.theonion.com/nuclear-bom...   \n",
              "16  https://www.theonion.com/cosby-lawyer-asks-why...   \n",
              "17  https://www.theonion.com/stock-analysts-confus...   \n",
              "20  https://local.theonion.com/courtroom-sketch-ar...   \n",
              "21  https://politics.theonion.com/trump-assures-na...   \n",
              "27  https://local.theonion.com/ex-con-back-behind-...   \n",
              "28  https://www.theonion.com/after-careful-conside...   \n",
              "\n",
              "                                             headline  is_sarcastic  \n",
              "2   mom starting to fear son's web series closest ...             1  \n",
              "3   boehner just wants wife to listen, not come up...             1  \n",
              "8   top snake handler leaves sinking huckabee camp...             1  \n",
              "15  nuclear bomb detonates during rehearsal for 's...             1  \n",
              "16  cosby lawyer asks why accusers didn't come for...             1  \n",
              "17  stock analysts confused, frightened by boar ma...             1  \n",
              "20  courtroom sketch artist has clear manga influe...             1  \n",
              "21  trump assures nation that decision for syrian ...             1  \n",
              "27                             ex-con back behind bar             1  \n",
              "28  after careful consideration, bush recommends o...             1  "
            ],
            "text/html": [
              "\n",
              "  <div id=\"df-72b2610b-20b8-436b-aae1-69b8e410cc68\">\n",
              "    <div class=\"colab-df-container\">\n",
              "      <div>\n",
              "<style scoped>\n",
              "    .dataframe tbody tr th:only-of-type {\n",
              "        vertical-align: middle;\n",
              "    }\n",
              "\n",
              "    .dataframe tbody tr th {\n",
              "        vertical-align: top;\n",
              "    }\n",
              "\n",
              "    .dataframe thead th {\n",
              "        text-align: right;\n",
              "    }\n",
              "</style>\n",
              "<table border=\"1\" class=\"dataframe\">\n",
              "  <thead>\n",
              "    <tr style=\"text-align: right;\">\n",
              "      <th></th>\n",
              "      <th>article_link</th>\n",
              "      <th>headline</th>\n",
              "      <th>is_sarcastic</th>\n",
              "    </tr>\n",
              "  </thead>\n",
              "  <tbody>\n",
              "    <tr>\n",
              "      <th>2</th>\n",
              "      <td>https://local.theonion.com/mom-starting-to-fea...</td>\n",
              "      <td>mom starting to fear son's web series closest ...</td>\n",
              "      <td>1</td>\n",
              "    </tr>\n",
              "    <tr>\n",
              "      <th>3</th>\n",
              "      <td>https://politics.theonion.com/boehner-just-wan...</td>\n",
              "      <td>boehner just wants wife to listen, not come up...</td>\n",
              "      <td>1</td>\n",
              "    </tr>\n",
              "    <tr>\n",
              "      <th>8</th>\n",
              "      <td>https://politics.theonion.com/top-snake-handle...</td>\n",
              "      <td>top snake handler leaves sinking huckabee camp...</td>\n",
              "      <td>1</td>\n",
              "    </tr>\n",
              "    <tr>\n",
              "      <th>15</th>\n",
              "      <td>https://entertainment.theonion.com/nuclear-bom...</td>\n",
              "      <td>nuclear bomb detonates during rehearsal for 's...</td>\n",
              "      <td>1</td>\n",
              "    </tr>\n",
              "    <tr>\n",
              "      <th>16</th>\n",
              "      <td>https://www.theonion.com/cosby-lawyer-asks-why...</td>\n",
              "      <td>cosby lawyer asks why accusers didn't come for...</td>\n",
              "      <td>1</td>\n",
              "    </tr>\n",
              "    <tr>\n",
              "      <th>17</th>\n",
              "      <td>https://www.theonion.com/stock-analysts-confus...</td>\n",
              "      <td>stock analysts confused, frightened by boar ma...</td>\n",
              "      <td>1</td>\n",
              "    </tr>\n",
              "    <tr>\n",
              "      <th>20</th>\n",
              "      <td>https://local.theonion.com/courtroom-sketch-ar...</td>\n",
              "      <td>courtroom sketch artist has clear manga influe...</td>\n",
              "      <td>1</td>\n",
              "    </tr>\n",
              "    <tr>\n",
              "      <th>21</th>\n",
              "      <td>https://politics.theonion.com/trump-assures-na...</td>\n",
              "      <td>trump assures nation that decision for syrian ...</td>\n",
              "      <td>1</td>\n",
              "    </tr>\n",
              "    <tr>\n",
              "      <th>27</th>\n",
              "      <td>https://local.theonion.com/ex-con-back-behind-...</td>\n",
              "      <td>ex-con back behind bar</td>\n",
              "      <td>1</td>\n",
              "    </tr>\n",
              "    <tr>\n",
              "      <th>28</th>\n",
              "      <td>https://www.theonion.com/after-careful-conside...</td>\n",
              "      <td>after careful consideration, bush recommends o...</td>\n",
              "      <td>1</td>\n",
              "    </tr>\n",
              "  </tbody>\n",
              "</table>\n",
              "</div>\n",
              "      <button class=\"colab-df-convert\" onclick=\"convertToInteractive('df-72b2610b-20b8-436b-aae1-69b8e410cc68')\"\n",
              "              title=\"Convert this dataframe to an interactive table.\"\n",
              "              style=\"display:none;\">\n",
              "        \n",
              "  <svg xmlns=\"http://www.w3.org/2000/svg\" height=\"24px\"viewBox=\"0 0 24 24\"\n",
              "       width=\"24px\">\n",
              "    <path d=\"M0 0h24v24H0V0z\" fill=\"none\"/>\n",
              "    <path d=\"M18.56 5.44l.94 2.06.94-2.06 2.06-.94-2.06-.94-.94-2.06-.94 2.06-2.06.94zm-11 1L8.5 8.5l.94-2.06 2.06-.94-2.06-.94L8.5 2.5l-.94 2.06-2.06.94zm10 10l.94 2.06.94-2.06 2.06-.94-2.06-.94-.94-2.06-.94 2.06-2.06.94z\"/><path d=\"M17.41 7.96l-1.37-1.37c-.4-.4-.92-.59-1.43-.59-.52 0-1.04.2-1.43.59L10.3 9.45l-7.72 7.72c-.78.78-.78 2.05 0 2.83L4 21.41c.39.39.9.59 1.41.59.51 0 1.02-.2 1.41-.59l7.78-7.78 2.81-2.81c.8-.78.8-2.07 0-2.86zM5.41 20L4 18.59l7.72-7.72 1.47 1.35L5.41 20z\"/>\n",
              "  </svg>\n",
              "      </button>\n",
              "      \n",
              "  <style>\n",
              "    .colab-df-container {\n",
              "      display:flex;\n",
              "      flex-wrap:wrap;\n",
              "      gap: 12px;\n",
              "    }\n",
              "\n",
              "    .colab-df-convert {\n",
              "      background-color: #E8F0FE;\n",
              "      border: none;\n",
              "      border-radius: 50%;\n",
              "      cursor: pointer;\n",
              "      display: none;\n",
              "      fill: #1967D2;\n",
              "      height: 32px;\n",
              "      padding: 0 0 0 0;\n",
              "      width: 32px;\n",
              "    }\n",
              "\n",
              "    .colab-df-convert:hover {\n",
              "      background-color: #E2EBFA;\n",
              "      box-shadow: 0px 1px 2px rgba(60, 64, 67, 0.3), 0px 1px 3px 1px rgba(60, 64, 67, 0.15);\n",
              "      fill: #174EA6;\n",
              "    }\n",
              "\n",
              "    [theme=dark] .colab-df-convert {\n",
              "      background-color: #3B4455;\n",
              "      fill: #D2E3FC;\n",
              "    }\n",
              "\n",
              "    [theme=dark] .colab-df-convert:hover {\n",
              "      background-color: #434B5C;\n",
              "      box-shadow: 0px 1px 3px 1px rgba(0, 0, 0, 0.15);\n",
              "      filter: drop-shadow(0px 1px 2px rgba(0, 0, 0, 0.3));\n",
              "      fill: #FFFFFF;\n",
              "    }\n",
              "  </style>\n",
              "\n",
              "      <script>\n",
              "        const buttonEl =\n",
              "          document.querySelector('#df-72b2610b-20b8-436b-aae1-69b8e410cc68 button.colab-df-convert');\n",
              "        buttonEl.style.display =\n",
              "          google.colab.kernel.accessAllowed ? 'block' : 'none';\n",
              "\n",
              "        async function convertToInteractive(key) {\n",
              "          const element = document.querySelector('#df-72b2610b-20b8-436b-aae1-69b8e410cc68');\n",
              "          const dataTable =\n",
              "            await google.colab.kernel.invokeFunction('convertToInteractive',\n",
              "                                                     [key], {});\n",
              "          if (!dataTable) return;\n",
              "\n",
              "          const docLinkHtml = 'Like what you see? Visit the ' +\n",
              "            '<a target=\"_blank\" href=https://colab.research.google.com/notebooks/data_table.ipynb>data table notebook</a>'\n",
              "            + ' to learn more about interactive tables.';\n",
              "          element.innerHTML = '';\n",
              "          dataTable['output_type'] = 'display_data';\n",
              "          await google.colab.output.renderOutput(dataTable, element);\n",
              "          const docLink = document.createElement('div');\n",
              "          docLink.innerHTML = docLinkHtml;\n",
              "          element.appendChild(docLink);\n",
              "        }\n",
              "      </script>\n",
              "    </div>\n",
              "  </div>\n",
              "  "
            ]
          },
          "metadata": {},
          "execution_count": 41
        }
      ]
    },
    {
      "cell_type": "code",
      "source": [
        "# Relacing special symbols and digits in headline column\n",
        "# re stands for Regular Expression\n",
        "data['headline'] = data['headline'].apply(lambda s : re.sub('[^a-zA-Z]', ' ', s))"
      ],
      "metadata": {
        "id": "7G8Fj_EWekvE"
      },
      "execution_count": null,
      "outputs": []
    },
    {
      "cell_type": "code",
      "source": [
        "# getting features and labels\n",
        "features = data['headline']\n",
        "labels = data['is_sarcastic']"
      ],
      "metadata": {
        "id": "kQ7MfwR-_h9a"
      },
      "execution_count": null,
      "outputs": []
    },
    {
      "cell_type": "code",
      "source": [
        "# Stemming our data\n",
        "ps = PorterStemmer()\n",
        "features = features.apply(lambda x: x.split())\n",
        "features = features.apply(lambda x : ' '.join([ps.stem(word) for word in x]))"
      ],
      "metadata": {
        "id": "cdaQoZ8I_kHX"
      },
      "execution_count": null,
      "outputs": []
    },
    {
      "cell_type": "code",
      "source": [
        "# vectorizing the data with maximum of 5000 features\n",
        "from sklearn.feature_extraction.text import TfidfVectorizer\n",
        "tv = TfidfVectorizer(max_features = 5000)\n",
        "features = list(features)\n",
        "features = tv.fit_transform(features).toarray()"
      ],
      "metadata": {
        "id": "X9Ay0x12_yzf"
      },
      "execution_count": null,
      "outputs": []
    },
    {
      "cell_type": "code",
      "source": [
        "# getting training and testing data\n",
        "features_train, features_test, labels_train, labels_test = train_test_split(features, labels, test_size = .2, random_state = 0)"
      ],
      "metadata": {
        "id": "2c6MNS2A_3kb"
      },
      "execution_count": null,
      "outputs": []
    },
    {
      "cell_type": "markdown",
      "source": [
        "from here\n"
      ],
      "metadata": {
        "id": "SA-ohs71kr0o"
      }
    },
    {
      "cell_type": "code",
      "source": [
        "model = MultinomialNB().fit(features_train, labels_train)\n",
        "y_pred = model.predict(features_test)"
      ],
      "metadata": {
        "id": "TmKg44eBI8G-"
      },
      "execution_count": null,
      "outputs": []
    },
    {
      "cell_type": "code",
      "source": [
        "print('Accuracy:', accuracy_score(labels_test, y_pred)*100)\n",
        "print('F1 score:', f1_score(labels_test, y_pred, average=\"macro\")*100)\n",
        "print('ROC AUC:', roc_auc_score(labels_test, y_pred)*100)"
      ],
      "metadata": {
        "id": "vBZb0QSmJLdD",
        "colab": {
          "base_uri": "https://localhost:8080/"
        },
        "outputId": "71f744e2-752a-491b-bf88-2f49e6cd9983"
      },
      "execution_count": null,
      "outputs": [
        {
          "output_type": "stream",
          "name": "stdout",
          "text": [
            "Accuracy: 81.84200673904904\n",
            "F1 score: 81.14934931797384\n",
            "ROC AUC: 80.70781310418445\n"
          ]
        }
      ]
    },
    {
      "cell_type": "code",
      "source": [
        "print(classification_report(labels_test, y_pred))"
      ],
      "metadata": {
        "id": "bgK6KyRAJVzc",
        "colab": {
          "base_uri": "https://localhost:8080/"
        },
        "outputId": "bbac834f-33dc-4428-d833-6a1b38bb3e4b"
      },
      "execution_count": null,
      "outputs": [
        {
          "output_type": "stream",
          "name": "stdout",
          "text": [
            "              precision    recall  f1-score   support\n",
            "\n",
            "           0       0.80      0.90      0.85      3007\n",
            "           1       0.84      0.72      0.78      2335\n",
            "\n",
            "    accuracy                           0.82      5342\n",
            "   macro avg       0.82      0.81      0.81      5342\n",
            "weighted avg       0.82      0.82      0.82      5342\n",
            "\n"
          ]
        }
      ]
    },
    {
      "cell_type": "code",
      "source": [
        "from sklearn.metrics import confusion_matrix, ConfusionMatrixDisplay"
      ],
      "metadata": {
        "id": "oJY25E8sfF4f"
      },
      "execution_count": null,
      "outputs": []
    },
    {
      "cell_type": "code",
      "source": [
        "predictions = model.predict(features_test)"
      ],
      "metadata": {
        "id": "D4ihr7oWf3za"
      },
      "execution_count": null,
      "outputs": []
    },
    {
      "cell_type": "code",
      "source": [
        "cm = confusion_matrix(labels_test, predictions, labels=model.classes_)\n",
        "disp = ConfusionMatrixDisplay(confusion_matrix=cm, display_labels=model.classes_)\n",
        "disp.plot()"
      ],
      "metadata": {
        "colab": {
          "base_uri": "https://localhost:8080/",
          "height": 466
        },
        "id": "7JiVNrVUfZYR",
        "outputId": "10644c01-f58c-403c-f1d2-49cf1f4df868"
      },
      "execution_count": null,
      "outputs": [
        {
          "output_type": "execute_result",
          "data": {
            "text/plain": [
              "<sklearn.metrics._plot.confusion_matrix.ConfusionMatrixDisplay at 0x7f77b70f4c70>"
            ]
          },
          "metadata": {},
          "execution_count": 52
        },
        {
          "output_type": "display_data",
          "data": {
            "text/plain": [
              "<Figure size 640x480 with 2 Axes>"
            ],
            "image/png": "[encoded data removed]"
          },
          "metadata": {}
        }
      ]
    },
    {
      "cell_type": "code",
      "source": [
        "results = pd.DataFrame(data={'predicted': y_pred, 'actual': labels_test})\n",
        "predictions = results.join(data)\n",
        "print(predictions)"
      ],
      "metadata": {
        "id": "_ONm6mVXJcLx",
        "colab": {
          "base_uri": "https://localhost:8080/"
        },
        "outputId": "296d2f2f-d686-4dea-d5c2-4502ede4e3fa"
      },
      "execution_count": null,
      "outputs": [
        {
          "output_type": "stream",
          "name": "stdout",
          "text": [
            "       predicted  actual                                       article_link  \\\n",
            "10646          1       0  https://www.huffingtonpost.com/entry/breaking-...   \n",
            "1971           1       1  https://www.theonion.com/classmates-com-employ...   \n",
            "19747          1       1  https://entertainment.theonion.com/woman-unawa...   \n",
            "14554          0       0  https://www.huffingtonpost.com/entry/donald-tr...   \n",
            "19329          0       1  https://www.theonion.com/inside-americas-love-...   \n",
            "...          ...     ...                                                ...   \n",
            "568            0       0  https://www.huffingtonpost.com/entry/black-rib...   \n",
            "7983           0       0  https://www.huffingtonpost.com/entry/electric-...   \n",
            "5289           1       1  https://local.theonion.com/man-just-needs-to-p...   \n",
            "24239          0       0  https://www.huffingtonpost.com/entry/brooklyn-...   \n",
            "11281          1       1  https://www.theonion.com/medical-breakthrough-...   \n",
            "\n",
            "                                                headline  is_sarcastic  \n",
            "10646  breaking  israelites in sinai suddenly achieve...             0  \n",
            "1971   classmates com employees don t have heart to t...             1  \n",
            "19747  woman unaware she s only person on acid at jam...             1  \n",
            "14554  donald trump has a new conspiracy theory  this...             0  \n",
            "19329  inside  america s love affair with neurotic jewry             1  \n",
            "...                                                  ...           ...  \n",
            "568                           black ribbon in the balsam             0  \n",
            "7983   why it s taking so long to get more electric c...             0  \n",
            "5289   man just needs to power through another day of...             1  \n",
            "24239  how  brooklyn  became the year s best book ada...             0  \n",
            "11281  medical breakthrough provides elderly woman wi...             1  \n",
            "\n",
            "[5342 rows x 5 columns]\n"
          ]
        }
      ]
    },
    {
      "cell_type": "markdown",
      "source": [
        "to here"
      ],
      "metadata": {
        "id": "zepXYM1qkwQx"
      }
    },
    {
      "cell_type": "code",
      "source": [
        "# model 1:-\n",
        "# Using linear support vector classifier\n",
        "lsvc = LinearSVC()\n",
        "# training the model\n",
        "lsvc.fit(features_train, labels_train)\n",
        "# getting the score of train and test data\n",
        "print('Linear Support Vector')\n",
        "print(f'train : {lsvc.score(features_train, labels_train)*100}') # 90.93\n",
        "print(f'test  : {lsvc.score(features_test, labels_test)*100}')   # 83.75\n",
        "# model 2:-\n",
        "# Using Gaussuan Naive Bayes\n",
        "gnb = GaussianNB()\n",
        "gnb.fit(features_train, labels_train)\n",
        "print('Gaussian Naive Bayes')\n",
        "print(f'train : {gnb.score(features_train, labels_train)*100}')  # 78.86\n",
        "print(f'test  : {gnb.score(features_test, labels_test)*100}')    # 73.80\n",
        "# model 3:-\n",
        "# Logistic Regression\n",
        "lr = LogisticRegression()\n",
        "lr.fit(features_train, labels_train)\n",
        "print('Logistic Regression')\n",
        "print(f'train : {lr.score(features_train, labels_train)*100}')   # 88.16\n",
        "print(f'test  : {lr.score(features_test, labels_test)*100}')     # 83.08\n",
        "# model 4:-\n",
        "# Random Forest Classifier\n",
        "rfc = RandomForestClassifier(n_estimators = 10, random_state = 0)\n",
        "rfc.fit(features_train, labels_train)\n",
        "print('Random Forest Classifier')\n",
        "print(f'train : {rfc.score(features_train, labels_train)*100}')  # 98.82\n",
        "print(f'test  : {rfc.score(features_test, labels_test)*100}')    # 79.71"
      ],
      "metadata": {
        "id": "juYtfJ1y_-DG",
        "colab": {
          "base_uri": "https://localhost:8080/"
        },
        "outputId": "118f54b6-7cf7-44ce-cb07-2ea4c6de72a6"
      },
      "execution_count": null,
      "outputs": [
        {
          "output_type": "stream",
          "name": "stdout",
          "text": [
            "Linear Support Vector\n",
            "train : 91.5991950203585\n",
            "test  : 82.27255709472108\n",
            "Gaussian Naive Bayes\n",
            "train : 78.40127299106098\n",
            "test  : 70.591538749532\n",
            "Logistic Regression\n",
            "train : 88.31375485561847\n",
            "test  : 83.05877948333958\n",
            "Random Forest Classifier\n",
            "train : 98.96101464875743\n",
            "test  : 78.22912766754024\n"
          ]
        }
      ]
    },
    {
      "cell_type": "markdown",
      "source": [
        "another approach\n"
      ],
      "metadata": {
        "id": "wNT7Z-mGAtX5"
      }
    },
    {
      "cell_type": "code",
      "source": [
        "data = data[[\"headline\", \"is_sarcastic\"]]\n",
        "x = np.array(data[\"headline\"])\n",
        "y = np.array(data[\"is_sarcastic\"])\n",
        "\n",
        "cv = CountVectorizer()\n",
        "X = cv.fit_transform(x) # Fit the Data\n",
        "X_train, X_test, y_train, y_test = train_test_split(X, y, test_size=0.20, random_state=42)"
      ],
      "metadata": {
        "id": "rNzPuPsZBAY9"
      },
      "execution_count": null,
      "outputs": []
    },
    {
      "cell_type": "code",
      "source": [
        "model = LogisticRegression()\n",
        "# model = RandomForestClassifier(n_estimators = 10, random_state = 0)\n",
        "model.fit(X_train, y_train)\n",
        "print('testing accuracy : ')\n",
        "print(model.score(X_test, y_test)*100)\n",
        "print('training accuracy : ')\n",
        "print(model.score(X_train, y_train)*100)"
      ],
      "metadata": {
        "id": "qCQuvK6CBCqT",
        "colab": {
          "base_uri": "https://localhost:8080/"
        },
        "outputId": "807f0d47-0045-4cf4-d9a2-8e94e68a5cf0"
      },
      "execution_count": null,
      "outputs": [
        {
          "output_type": "stream",
          "name": "stdout",
          "text": [
            "testing accuracy : \n",
            "84.12579558217897\n",
            "training accuracy : \n",
            "96.2652688725605\n"
          ]
        },
        {
          "output_type": "stream",
          "name": "stderr",
          "text": [
            "/usr/local/lib/python3.10/dist-packages/sklearn/linear_model/_logistic.py:458: ConvergenceWarning: lbfgs failed to converge (status=1):\n",
            "STOP: TOTAL NO. of ITERATIONS REACHED LIMIT.\n",
            "\n",
            "Increase the number of iterations (max_iter) or scale the data as shown in:\n",
            "    https://scikit-learn.org/stable/modules/preprocessing.html\n",
            "Please also refer to the documentation for alternative solver options:\n",
            "    https://scikit-learn.org/stable/modules/linear_model.html#logistic-regression\n",
            "  n_iter_i = _check_optimize_result(\n"
          ]
        }
      ]
    },
    {
      "cell_type": "code",
      "source": [
        "cv = CountVectorizer()\n",
        "X = cv.fit_transform(x) # Fit the Data\n",
        "user = input(\"Enter a Text: \")\n",
        "data = cv.transform([user]).toarray()\n",
        "output = model.predict(data)\n",
        "print(output[0])\n",
        "if output[0]==1:\n",
        "  print('sarcasm')\n",
        "elif output[0]==0:\n",
        "  print(f'not sarcasm')\n",
        "else:\n",
        "  print('cannot determine')"
      ],
      "metadata": {
        "id": "iRj9mqguBGDB",
        "colab": {
          "base_uri": "https://localhost:8080/"
        },
        "outputId": "1b2fa617-e125-4875-9b66-3febbc2776e4"
      },
      "execution_count": null,
      "outputs": [
        {
          "output_type": "stream",
          "name": "stdout",
          "text": [
            "Enter a Text: a man can live happily with his wiife\n",
            "1\n",
            "sarcasm\n"
          ]
        }
      ]
    }
  ]
}